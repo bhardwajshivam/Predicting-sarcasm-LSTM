{
  "nbformat": 4,
  "nbformat_minor": 0,
  "metadata": {
    "colab": {
      "provenance": [],
      "gpuType": "T4",
      "authorship_tag": "ABX9TyOKN77U+cnOM4rTJFMo78WP",
      "include_colab_link": true
    },
    "kernelspec": {
      "name": "python3",
      "display_name": "Python 3"
    },
    "language_info": {
      "name": "python"
    },
    "accelerator": "GPU"
  },
  "cells": [
    {
      "cell_type": "markdown",
      "metadata": {
        "id": "view-in-github",
        "colab_type": "text"
      },
      "source": [
        "<a href=\"https://colab.research.google.com/github/bhardwajshivam/Predicting-sarcasm-LSTM/blob/main/Sentiment_analysis_Sarcasm.ipynb\" target=\"_parent\"><img src=\"https://colab.research.google.com/assets/colab-badge.svg\" alt=\"Open In Colab\"/></a>"
      ]
    },
    {
      "cell_type": "code",
      "source": [
        "import json\n",
        "import tensorflow as tf\n",
        "\n",
        "from tensorflow.keras.preprocessing.text import Tokenizer\n",
        "from tensorflow.keras.preprocessing.sequence import pad_sequences"
      ],
      "metadata": {
        "id": "5ZLaqRnMl_RD"
      },
      "execution_count": 1,
      "outputs": []
    },
    {
      "cell_type": "code",
      "source": [
        "vocab_size = 10000 #looking at the 10000 most frequent words\n",
        "embedding_dim = 16 #dimension of our embeddings (vectors to indicate sarcasm)\n",
        "max_length = 100 #maximum length of our sequence\n",
        "trunc_type='post' #post truncation chops off the words from the end and takes the first max_length tokens\n",
        "padding_type='post' #post padding converts all the letters before the sequence to zeroes: eg: [0,0,0,1,4,5,7]\n",
        "oov_tok = \"<OOV>\" #used for unseen tokens\n",
        "training_size = 20000"
      ],
      "metadata": {
        "id": "vn8tjc_LKXru"
      },
      "execution_count": 2,
      "outputs": []
    },
    {
      "cell_type": "code",
      "source": [
        "!wget --no-check-certificate \\\n",
        "    https://storage.googleapis.com/learning-datasets/sarcasm.json \\\n",
        "    -O /tmp/sarcasm.json"
      ],
      "metadata": {
        "colab": {
          "base_uri": "https://localhost:8080/"
        },
        "id": "EiwZikOzMwB_",
        "outputId": "cd7a1866-72f5-435a-f0d5-68dfc41f2f4f"
      },
      "execution_count": 3,
      "outputs": [
        {
          "output_type": "stream",
          "name": "stdout",
          "text": [
            "--2024-01-08 23:13:00--  https://storage.googleapis.com/learning-datasets/sarcasm.json\n",
            "Resolving storage.googleapis.com (storage.googleapis.com)... 74.125.142.207, 74.125.195.207, 172.253.117.207, ...\n",
            "Connecting to storage.googleapis.com (storage.googleapis.com)|74.125.142.207|:443... connected.\n",
            "HTTP request sent, awaiting response... 200 OK\n",
            "Length: 5643545 (5.4M) [application/json]\n",
            "Saving to: ‘/tmp/sarcasm.json’\n",
            "\n",
            "/tmp/sarcasm.json   100%[===================>]   5.38M  --.-KB/s    in 0.07s   \n",
            "\n",
            "2024-01-08 23:13:00 (78.5 MB/s) - ‘/tmp/sarcasm.json’ saved [5643545/5643545]\n",
            "\n"
          ]
        }
      ]
    },
    {
      "cell_type": "code",
      "source": [
        "with open(\"/tmp/sarcasm.json\", 'r') as f:\n",
        "    datastore = json.load(f)\n",
        "\n",
        "sentences = []\n",
        "labels = []\n",
        "\n",
        "for item in datastore:\n",
        "    sentences.append(item['headline'])\n",
        "    labels.append(item['is_sarcastic'])"
      ],
      "metadata": {
        "id": "XsdFEMALMz_-"
      },
      "execution_count": 4,
      "outputs": []
    },
    {
      "cell_type": "markdown",
      "source": [
        "# Creating train test data"
      ],
      "metadata": {
        "id": "5jS0fJJ3NFe0"
      }
    },
    {
      "cell_type": "code",
      "source": [
        "training_sentences = sentences[0:training_size]\n",
        "testing_sentences = sentences[training_size:]\n",
        "training_labels = labels[0:training_size]\n",
        "testing_labels = labels[training_size:]"
      ],
      "metadata": {
        "id": "J7n4_sfvNAeE"
      },
      "execution_count": 5,
      "outputs": []
    },
    {
      "cell_type": "code",
      "source": [
        "training_sentences[:10]"
      ],
      "metadata": {
        "colab": {
          "base_uri": "https://localhost:8080/"
        },
        "id": "25P2SKzVNJYF",
        "outputId": "49eed89b-bcb9-4cd0-b9b7-cd6cb23738d0"
      },
      "execution_count": 6,
      "outputs": [
        {
          "output_type": "execute_result",
          "data": {
            "text/plain": [
              "[\"former versace store clerk sues over secret 'black code' for minority shoppers\",\n",
              " \"the 'roseanne' revival catches up to our thorny political mood, for better and worse\",\n",
              " \"mom starting to fear son's web series closest thing she will have to grandchild\",\n",
              " 'boehner just wants wife to listen, not come up with alternative debt-reduction ideas',\n",
              " 'j.k. rowling wishes snape happy birthday in the most magical way',\n",
              " \"advancing the world's women\",\n",
              " 'the fascinating case for eating lab-grown meat',\n",
              " 'this ceo will send your kids to school, if you work for his company',\n",
              " 'top snake handler leaves sinking huckabee campaign',\n",
              " \"friday's morning email: inside trump's presser for the ages\"]"
            ]
          },
          "metadata": {},
          "execution_count": 6
        }
      ]
    },
    {
      "cell_type": "code",
      "source": [
        "training_labels[:10]"
      ],
      "metadata": {
        "colab": {
          "base_uri": "https://localhost:8080/"
        },
        "id": "_pImpHzuNLeR",
        "outputId": "764b5e9a-0bdd-445f-db9c-df3a8e9a68ed"
      },
      "execution_count": 7,
      "outputs": [
        {
          "output_type": "execute_result",
          "data": {
            "text/plain": [
              "[0, 0, 1, 1, 0, 0, 0, 0, 1, 0]"
            ]
          },
          "metadata": {},
          "execution_count": 7
        }
      ]
    },
    {
      "cell_type": "code",
      "source": [
        "tokenizer = Tokenizer(num_words=vocab_size, oov_token=oov_tok) # creating our tokenizer to convert words in our corpus to tokens\n",
        "tokenizer.fit_on_texts(training_sentences) #fitting the tokenizer on traing text\n",
        "\n",
        "word_index = tokenizer.word_index\n",
        "\n",
        "training_sequences = tokenizer.texts_to_sequences(training_sentences) #generating sequences\n",
        "training_padded = pad_sequences(training_sequences, maxlen=max_length, padding=padding_type, truncating=trunc_type)#modified sequences\n",
        "\n",
        "testing_sequences = tokenizer.texts_to_sequences(testing_sentences)\n",
        "testing_padded = pad_sequences(testing_sequences, maxlen=max_length, padding=padding_type, truncating=trunc_type)"
      ],
      "metadata": {
        "id": "N9UALDI3NSBo"
      },
      "execution_count": 8,
      "outputs": []
    },
    {
      "cell_type": "code",
      "source": [
        "# Need this block to get it to work with TensorFlow 2.x\n",
        "import numpy as np\n",
        "training_padded = np.array(training_padded)\n",
        "training_labels = np.array(training_labels)\n",
        "testing_padded = np.array(testing_padded)\n",
        "testing_labels = np.array(testing_labels)"
      ],
      "metadata": {
        "id": "b-Jl8_9ON7Bu"
      },
      "execution_count": 9,
      "outputs": []
    },
    {
      "cell_type": "markdown",
      "source": [
        "# Creating our neural network"
      ],
      "metadata": {
        "id": "BKI5skQQOFiK"
      }
    },
    {
      "cell_type": "code",
      "source": [
        "model = tf.keras.Sequential([\n",
        "    tf.keras.layers.Embedding(vocab_size, embedding_dim, input_length=max_length), #learning the direction of each word epoch by epoch\n",
        "    tf.keras.layers.GlobalAveragePooling1D(), #adding up the vectors\n",
        "    tf.keras.layers.Dense(24, activation='relu'),\n",
        "    tf.keras.layers.Dense(1, activation='sigmoid')\n",
        "])\n",
        "model.compile(loss='binary_crossentropy',optimizer='adam',metrics=['accuracy'])"
      ],
      "metadata": {
        "id": "z-DqtnYfOCr9"
      },
      "execution_count": 10,
      "outputs": []
    },
    {
      "cell_type": "code",
      "source": [
        "model.summary()\n"
      ],
      "metadata": {
        "colab": {
          "base_uri": "https://localhost:8080/"
        },
        "id": "zM2kJCbkOjaM",
        "outputId": "1a08983c-69d1-45e1-a863-0e8cbc2c2c02"
      },
      "execution_count": 11,
      "outputs": [
        {
          "output_type": "stream",
          "name": "stdout",
          "text": [
            "Model: \"sequential\"\n",
            "_________________________________________________________________\n",
            " Layer (type)                Output Shape              Param #   \n",
            "=================================================================\n",
            " embedding (Embedding)       (None, 100, 16)           160000    \n",
            "                                                                 \n",
            " global_average_pooling1d (  (None, 16)                0         \n",
            " GlobalAveragePooling1D)                                         \n",
            "                                                                 \n",
            " dense (Dense)               (None, 24)                408       \n",
            "                                                                 \n",
            " dense_1 (Dense)             (None, 1)                 25        \n",
            "                                                                 \n",
            "=================================================================\n",
            "Total params: 160433 (626.69 KB)\n",
            "Trainable params: 160433 (626.69 KB)\n",
            "Non-trainable params: 0 (0.00 Byte)\n",
            "_________________________________________________________________\n"
          ]
        }
      ]
    },
    {
      "cell_type": "code",
      "source": [
        "num_epochs = 30\n",
        "history = model.fit(training_padded, training_labels, epochs=num_epochs, validation_data=(testing_padded, testing_labels), verbose=2)"
      ],
      "metadata": {
        "colab": {
          "base_uri": "https://localhost:8080/"
        },
        "id": "Q1XJLpuTOmGx",
        "outputId": "04d009ed-cc6c-44b7-c473-972e42eaf272"
      },
      "execution_count": 12,
      "outputs": [
        {
          "output_type": "stream",
          "name": "stdout",
          "text": [
            "Epoch 1/30\n",
            "625/625 - 23s - loss: 0.6626 - accuracy: 0.5964 - val_loss: 0.5704 - val_accuracy: 0.8088 - 23s/epoch - 37ms/step\n",
            "Epoch 2/30\n",
            "625/625 - 4s - loss: 0.4233 - accuracy: 0.8318 - val_loss: 0.3807 - val_accuracy: 0.8392 - 4s/epoch - 6ms/step\n",
            "Epoch 3/30\n",
            "625/625 - 3s - loss: 0.3069 - accuracy: 0.8788 - val_loss: 0.3574 - val_accuracy: 0.8430 - 3s/epoch - 4ms/step\n",
            "Epoch 4/30\n",
            "625/625 - 2s - loss: 0.2563 - accuracy: 0.9003 - val_loss: 0.3544 - val_accuracy: 0.8429 - 2s/epoch - 4ms/step\n",
            "Epoch 5/30\n",
            "625/625 - 2s - loss: 0.2216 - accuracy: 0.9148 - val_loss: 0.3445 - val_accuracy: 0.8524 - 2s/epoch - 4ms/step\n",
            "Epoch 6/30\n",
            "625/625 - 3s - loss: 0.1942 - accuracy: 0.9265 - val_loss: 0.3525 - val_accuracy: 0.8517 - 3s/epoch - 5ms/step\n",
            "Epoch 7/30\n",
            "625/625 - 2s - loss: 0.1739 - accuracy: 0.9347 - val_loss: 0.3643 - val_accuracy: 0.8544 - 2s/epoch - 3ms/step\n",
            "Epoch 8/30\n",
            "625/625 - 2s - loss: 0.1537 - accuracy: 0.9439 - val_loss: 0.3843 - val_accuracy: 0.8509 - 2s/epoch - 3ms/step\n",
            "Epoch 9/30\n",
            "625/625 - 2s - loss: 0.1381 - accuracy: 0.9500 - val_loss: 0.3970 - val_accuracy: 0.8532 - 2s/epoch - 3ms/step\n",
            "Epoch 10/30\n",
            "625/625 - 2s - loss: 0.1266 - accuracy: 0.9549 - val_loss: 0.4220 - val_accuracy: 0.8474 - 2s/epoch - 3ms/step\n",
            "Epoch 11/30\n",
            "625/625 - 2s - loss: 0.1139 - accuracy: 0.9602 - val_loss: 0.4723 - val_accuracy: 0.8354 - 2s/epoch - 4ms/step\n",
            "Epoch 12/30\n",
            "625/625 - 3s - loss: 0.1031 - accuracy: 0.9643 - val_loss: 0.4654 - val_accuracy: 0.8454 - 3s/epoch - 5ms/step\n",
            "Epoch 13/30\n",
            "625/625 - 2s - loss: 0.0948 - accuracy: 0.9689 - val_loss: 0.4896 - val_accuracy: 0.8433 - 2s/epoch - 4ms/step\n",
            "Epoch 14/30\n",
            "625/625 - 2s - loss: 0.0861 - accuracy: 0.9709 - val_loss: 0.5216 - val_accuracy: 0.8378 - 2s/epoch - 4ms/step\n",
            "Epoch 15/30\n",
            "625/625 - 2s - loss: 0.0794 - accuracy: 0.9744 - val_loss: 0.5472 - val_accuracy: 0.8395 - 2s/epoch - 3ms/step\n",
            "Epoch 16/30\n",
            "625/625 - 2s - loss: 0.0731 - accuracy: 0.9772 - val_loss: 0.5804 - val_accuracy: 0.8348 - 2s/epoch - 4ms/step\n",
            "Epoch 17/30\n",
            "625/625 - 3s - loss: 0.0668 - accuracy: 0.9782 - val_loss: 0.6149 - val_accuracy: 0.8322 - 3s/epoch - 5ms/step\n",
            "Epoch 18/30\n",
            "625/625 - 2s - loss: 0.0608 - accuracy: 0.9815 - val_loss: 0.6984 - val_accuracy: 0.8246 - 2s/epoch - 3ms/step\n",
            "Epoch 19/30\n",
            "625/625 - 2s - loss: 0.0560 - accuracy: 0.9827 - val_loss: 0.7157 - val_accuracy: 0.8240 - 2s/epoch - 4ms/step\n",
            "Epoch 20/30\n",
            "625/625 - 2s - loss: 0.0518 - accuracy: 0.9836 - val_loss: 0.7205 - val_accuracy: 0.8234 - 2s/epoch - 3ms/step\n",
            "Epoch 21/30\n",
            "625/625 - 2s - loss: 0.0470 - accuracy: 0.9856 - val_loss: 0.7606 - val_accuracy: 0.8238 - 2s/epoch - 3ms/step\n",
            "Epoch 22/30\n",
            "625/625 - 3s - loss: 0.0448 - accuracy: 0.9861 - val_loss: 0.7982 - val_accuracy: 0.8226 - 3s/epoch - 4ms/step\n",
            "Epoch 23/30\n",
            "625/625 - 3s - loss: 0.0411 - accuracy: 0.9876 - val_loss: 0.8214 - val_accuracy: 0.8234 - 3s/epoch - 5ms/step\n",
            "Epoch 24/30\n",
            "625/625 - 2s - loss: 0.0373 - accuracy: 0.9890 - val_loss: 0.8634 - val_accuracy: 0.8179 - 2s/epoch - 3ms/step\n",
            "Epoch 25/30\n",
            "625/625 - 2s - loss: 0.0346 - accuracy: 0.9901 - val_loss: 0.8967 - val_accuracy: 0.8202 - 2s/epoch - 4ms/step\n",
            "Epoch 26/30\n",
            "625/625 - 2s - loss: 0.0317 - accuracy: 0.9902 - val_loss: 0.9585 - val_accuracy: 0.8153 - 2s/epoch - 3ms/step\n",
            "Epoch 27/30\n",
            "625/625 - 2s - loss: 0.0290 - accuracy: 0.9922 - val_loss: 0.9808 - val_accuracy: 0.8161 - 2s/epoch - 3ms/step\n",
            "Epoch 28/30\n",
            "625/625 - 3s - loss: 0.0255 - accuracy: 0.9924 - val_loss: 1.0797 - val_accuracy: 0.8119 - 3s/epoch - 5ms/step\n",
            "Epoch 29/30\n",
            "625/625 - 2s - loss: 0.0240 - accuracy: 0.9934 - val_loss: 1.0493 - val_accuracy: 0.8135 - 2s/epoch - 3ms/step\n",
            "Epoch 30/30\n",
            "625/625 - 2s - loss: 0.0237 - accuracy: 0.9930 - val_loss: 1.0971 - val_accuracy: 0.8119 - 2s/epoch - 4ms/step\n"
          ]
        }
      ]
    },
    {
      "cell_type": "code",
      "source": [
        "import matplotlib.pyplot as plt\n",
        "\n",
        "\n",
        "def plot_graphs(history, string):\n",
        "  plt.plot(history.history[string])\n",
        "  plt.plot(history.history['val_'+string])\n",
        "  plt.xlabel(\"Epochs\")\n",
        "  plt.ylabel(string)\n",
        "  plt.legend([string, 'val_'+string])\n",
        "  plt.show()\n",
        "\n",
        "plot_graphs(history, \"accuracy\")\n",
        "plot_graphs(history, \"loss\")"
      ],
      "metadata": {
        "colab": {
          "base_uri": "https://localhost:8080/",
          "height": 881
        },
        "id": "-bAk0tGvOpt1",
        "outputId": "270e56e3-a45a-4854-dd2e-6a92fcd4720a"
      },
      "execution_count": 13,
      "outputs": [
        {
          "output_type": "display_data",
          "data": {
            "text/plain": [
              "<Figure size 640x480 with 1 Axes>"
            ],
            "image/png": "[encoded data removed]"
          },
          "metadata": {}
        },
        {
          "output_type": "display_data",
          "data": {
            "text/plain": [
              "<Figure size 640x480 with 1 Axes>"
            ],
            "image/png": "[encoded data removed]"
          },
          "metadata": {}
        }
      ]
    },
    {
      "cell_type": "code",
      "source": [
        "reverse_word_index = dict([(value, key) for (key, value) in word_index.items()])\n",
        "\n",
        "def decode_sentence(text):\n",
        "    return ' '.join([reverse_word_index.get(i, '?') for i in text])\n",
        "\n",
        "print(decode_sentence(training_padded[0]))\n",
        "print(training_sentences[2])\n",
        "print(labels[2])"
      ],
      "metadata": {
        "colab": {
          "base_uri": "https://localhost:8080/"
        },
        "id": "4StVvbhbPhDv",
        "outputId": "a72c68a8-62fd-4571-8873-013938a4580c"
      },
      "execution_count": 14,
      "outputs": [
        {
          "output_type": "stream",
          "name": "stdout",
          "text": [
            "former <OOV> store clerk sues over secret 'black <OOV> for minority shoppers ? ? ? ? ? ? ? ? ? ? ? ? ? ? ? ? ? ? ? ? ? ? ? ? ? ? ? ? ? ? ? ? ? ? ? ? ? ? ? ? ? ? ? ? ? ? ? ? ? ? ? ? ? ? ? ? ? ? ? ? ? ? ? ? ? ? ? ? ? ? ? ? ? ? ? ? ? ? ? ? ? ? ? ? ? ? ? ?\n",
            "mom starting to fear son's web series closest thing she will have to grandchild\n",
            "1\n"
          ]
        }
      ]
    },
    {
      "cell_type": "code",
      "source": [
        "e = model.layers[0]\n",
        "weights = e.get_weights()[0]\n",
        "print(weights.shape) # shape: (vocab_size, embedding_dim)\n"
      ],
      "metadata": {
        "colab": {
          "base_uri": "https://localhost:8080/"
        },
        "id": "UUkqzoG-PtDY",
        "outputId": "f643ca49-4ba8-4475-d18a-a62486f1e383"
      },
      "execution_count": 15,
      "outputs": [
        {
          "output_type": "stream",
          "name": "stdout",
          "text": [
            "(10000, 16)\n"
          ]
        }
      ]
    },
    {
      "cell_type": "code",
      "source": [
        "import io\n",
        "\n",
        "out_v = io.open('vecs.tsv', 'w', encoding='utf-8')\n",
        "out_m = io.open('meta.tsv', 'w', encoding='utf-8')\n",
        "for word_num in range(1, vocab_size):\n",
        "  word = reverse_word_index[word_num]\n",
        "  embeddings = weights[word_num]\n",
        "  out_m.write(word + \"\\n\")\n",
        "  out_v.write('\\t'.join([str(x) for x in embeddings]) + \"\\n\")\n",
        "out_v.close()\n",
        "out_m.close()"
      ],
      "metadata": {
        "id": "M0IGqXtEP5tN"
      },
      "execution_count": 16,
      "outputs": []
    },
    {
      "cell_type": "code",
      "source": [
        "try:\n",
        "  from google.colab import files\n",
        "except ImportError:\n",
        "  pass\n",
        "else:\n",
        "  files.download('vecs.tsv')\n",
        "  files.download('meta.tsv')"
      ],
      "metadata": {
        "colab": {
          "base_uri": "https://localhost:8080/",
          "height": 17
        },
        "id": "xCwsQ5V2QKbW",
        "outputId": "eed25cf7-818f-4fee-8085-66e7768828ea"
      },
      "execution_count": 17,
      "outputs": [
        {
          "output_type": "display_data",
          "data": {
            "text/plain": [
              "<IPython.core.display.Javascript object>"
            ],
            "application/javascript": [
              "\n",
              "    async function download(id, filename, size) {\n",
              "      if (!google.colab.kernel.accessAllowed) {\n",
              "        return;\n",
              "      }\n",
              "      const div = document.createElement('div');\n",
              "      const label = document.createElement('label');\n",
              "      label.textContent = `Downloading \"${filename}\": `;\n",
              "      div.appendChild(label);\n",
              "      const progress = document.createElement('progress');\n",
              "      progress.max = size;\n",
              "      div.appendChild(progress);\n",
              "      document.body.appendChild(div);\n",
              "\n",
              "      const buffers = [];\n",
              "      let downloaded = 0;\n",
              "\n",
              "      const channel = await google.colab.kernel.comms.open(id);\n",
              "      // Send a message to notify the kernel that we're ready.\n",
              "      channel.send({})\n",
              "\n",
              "      for await (const message of channel.messages) {\n",
              "        // Send a message to notify the kernel that we're ready.\n",
              "        channel.send({})\n",
              "        if (message.buffers) {\n",
              "          for (const buffer of message.buffers) {\n",
              "            buffers.push(buffer);\n",
              "            downloaded += buffer.byteLength;\n",
              "            progress.value = downloaded;\n",
              "          }\n",
              "        }\n",
              "      }\n",
              "      const blob = new Blob(buffers, {type: 'application/binary'});\n",
              "      const a = document.createElement('a');\n",
              "      a.href = window.URL.createObjectURL(blob);\n",
              "      a.download = filename;\n",
              "      div.appendChild(a);\n",
              "      a.click();\n",
              "      div.remove();\n",
              "    }\n",
              "  "
            ]
          },
          "metadata": {}
        },
        {
          "output_type": "display_data",
          "data": {
            "text/plain": [
              "<IPython.core.display.Javascript object>"
            ],
            "application/javascript": [
              "download(\"download_de76ea55-7c45-4925-b2ce-6a4a38ef5f45\", \"vecs.tsv\", 1815106)"
            ]
          },
          "metadata": {}
        },
        {
          "output_type": "display_data",
          "data": {
            "text/plain": [
              "<IPython.core.display.Javascript object>"
            ],
            "application/javascript": [
              "\n",
              "    async function download(id, filename, size) {\n",
              "      if (!google.colab.kernel.accessAllowed) {\n",
              "        return;\n",
              "      }\n",
              "      const div = document.createElement('div');\n",
              "      const label = document.createElement('label');\n",
              "      label.textContent = `Downloading \"${filename}\": `;\n",
              "      div.appendChild(label);\n",
              "      const progress = document.createElement('progress');\n",
              "      progress.max = size;\n",
              "      div.appendChild(progress);\n",
              "      document.body.appendChild(div);\n",
              "\n",
              "      const buffers = [];\n",
              "      let downloaded = 0;\n",
              "\n",
              "      const channel = await google.colab.kernel.comms.open(id);\n",
              "      // Send a message to notify the kernel that we're ready.\n",
              "      channel.send({})\n",
              "\n",
              "      for await (const message of channel.messages) {\n",
              "        // Send a message to notify the kernel that we're ready.\n",
              "        channel.send({})\n",
              "        if (message.buffers) {\n",
              "          for (const buffer of message.buffers) {\n",
              "            buffers.push(buffer);\n",
              "            downloaded += buffer.byteLength;\n",
              "            progress.value = downloaded;\n",
              "          }\n",
              "        }\n",
              "      }\n",
              "      const blob = new Blob(buffers, {type: 'application/binary'});\n",
              "      const a = document.createElement('a');\n",
              "      a.href = window.URL.createObjectURL(blob);\n",
              "      a.download = filename;\n",
              "      div.appendChild(a);\n",
              "      a.click();\n",
              "      div.remove();\n",
              "    }\n",
              "  "
            ]
          },
          "metadata": {}
        },
        {
          "output_type": "display_data",
          "data": {
            "text/plain": [
              "<IPython.core.display.Javascript object>"
            ],
            "application/javascript": [
              "download(\"download_94f736f1-940e-4ab4-813f-4fdae17e5a5d\", \"meta.tsv\", 75974)"
            ]
          },
          "metadata": {}
        }
      ]
    },
    {
      "cell_type": "code",
      "source": [
        "sentence = [\"granny starting to fear spiders in the garden might be real\", \"game of thrones season finale showing this sunday night\"]\n",
        "sequences = tokenizer.texts_to_sequences(sentence)\n",
        "padded = pad_sequences(sequences, maxlen=max_length, padding=padding_type, truncating=trunc_type)\n",
        "print(model.predict(padded))"
      ],
      "metadata": {
        "colab": {
          "base_uri": "https://localhost:8080/"
        },
        "id": "tn5pZjcFQTHz",
        "outputId": "68721935-ce16-4b8c-f21f-9817e0297012"
      },
      "execution_count": 18,
      "outputs": [
        {
          "output_type": "stream",
          "name": "stdout",
          "text": [
            "1/1 [==============================] - 0s 101ms/step\n",
            "[[9.264525e-01]\n",
            " [8.444821e-06]]\n"
          ]
        }
      ]
    },
    {
      "cell_type": "markdown",
      "source": [
        "# Trying with LSTM"
      ],
      "metadata": {
        "id": "Bb0WI-GIUxe1"
      }
    },
    {
      "cell_type": "code",
      "source": [
        "model = tf.keras.Sequential([\n",
        "    tf.keras.layers.Embedding(10000, 64),\n",
        "    tf.keras.layers.Bidirectional(tf.keras.layers.LSTM(64, return_sequences = True)),\n",
        "    tf.keras.layers.Bidirectional(tf.keras.layers.LSTM(32)),\n",
        "    tf.keras.layers.Dense(64, activation='relu'),\n",
        "    tf.keras.layers.Dense(1, activation='sigmoid')\n",
        "])\n",
        "model.compile(loss='binary_crossentropy',optimizer='adam',metrics=['accuracy'])"
      ],
      "metadata": {
        "id": "j-TMya_5QaSy"
      },
      "execution_count": 19,
      "outputs": []
    },
    {
      "cell_type": "code",
      "source": [
        "model.summary()"
      ],
      "metadata": {
        "colab": {
          "base_uri": "https://localhost:8080/"
        },
        "id": "uUNayiedVaSp",
        "outputId": "efbc1cfb-7628-4d8e-e11a-d43b20805b79"
      },
      "execution_count": 20,
      "outputs": [
        {
          "output_type": "stream",
          "name": "stdout",
          "text": [
            "Model: \"sequential_1\"\n",
            "_________________________________________________________________\n",
            " Layer (type)                Output Shape              Param #   \n",
            "=================================================================\n",
            " embedding_1 (Embedding)     (None, None, 64)          640000    \n",
            "                                                                 \n",
            " bidirectional (Bidirection  (None, None, 128)         66048     \n",
            " al)                                                             \n",
            "                                                                 \n",
            " bidirectional_1 (Bidirecti  (None, 64)                41216     \n",
            " onal)                                                           \n",
            "                                                                 \n",
            " dense_2 (Dense)             (None, 64)                4160      \n",
            "                                                                 \n",
            " dense_3 (Dense)             (None, 1)                 65        \n",
            "                                                                 \n",
            "=================================================================\n",
            "Total params: 751489 (2.87 MB)\n",
            "Trainable params: 751489 (2.87 MB)\n",
            "Non-trainable params: 0 (0.00 Byte)\n",
            "_________________________________________________________________\n"
          ]
        }
      ]
    },
    {
      "cell_type": "code",
      "source": [
        "num_epochs = 10\n",
        "history = model.fit(training_padded, training_labels, epochs=num_epochs, validation_data=(testing_padded, testing_labels), verbose=2)"
      ],
      "metadata": {
        "colab": {
          "base_uri": "https://localhost:8080/"
        },
        "id": "yEf0rCTGV2tt",
        "outputId": "464607da-d3e1-40e2-b62d-e24602cb7b57"
      },
      "execution_count": 21,
      "outputs": [
        {
          "output_type": "stream",
          "name": "stdout",
          "text": [
            "Epoch 1/10\n",
            "625/625 - 40s - loss: 0.3887 - accuracy: 0.8167 - val_loss: 0.3263 - val_accuracy: 0.8648 - 40s/epoch - 65ms/step\n",
            "Epoch 2/10\n",
            "625/625 - 14s - loss: 0.1901 - accuracy: 0.9254 - val_loss: 0.3610 - val_accuracy: 0.8551 - 14s/epoch - 22ms/step\n",
            "Epoch 3/10\n",
            "625/625 - 13s - loss: 0.1007 - accuracy: 0.9633 - val_loss: 0.4342 - val_accuracy: 0.8492 - 13s/epoch - 21ms/step\n",
            "Epoch 4/10\n",
            "625/625 - 14s - loss: 0.0561 - accuracy: 0.9811 - val_loss: 0.5132 - val_accuracy: 0.8398 - 14s/epoch - 22ms/step\n",
            "Epoch 5/10\n",
            "625/625 - 12s - loss: 0.0351 - accuracy: 0.9880 - val_loss: 0.7073 - val_accuracy: 0.8359 - 12s/epoch - 20ms/step\n",
            "Epoch 6/10\n",
            "625/625 - 12s - loss: 0.0216 - accuracy: 0.9932 - val_loss: 0.8952 - val_accuracy: 0.8399 - 12s/epoch - 20ms/step\n",
            "Epoch 7/10\n",
            "625/625 - 12s - loss: 0.0194 - accuracy: 0.9941 - val_loss: 0.7615 - val_accuracy: 0.8320 - 12s/epoch - 20ms/step\n",
            "Epoch 8/10\n",
            "625/625 - 13s - loss: 0.0136 - accuracy: 0.9953 - val_loss: 0.9253 - val_accuracy: 0.8374 - 13s/epoch - 21ms/step\n",
            "Epoch 9/10\n",
            "625/625 - 13s - loss: 0.0096 - accuracy: 0.9969 - val_loss: 1.1051 - val_accuracy: 0.8268 - 13s/epoch - 21ms/step\n",
            "Epoch 10/10\n",
            "625/625 - 14s - loss: 0.0122 - accuracy: 0.9959 - val_loss: 0.9630 - val_accuracy: 0.8316 - 14s/epoch - 22ms/step\n"
          ]
        }
      ]
    },
    {
      "cell_type": "code",
      "source": [
        "import matplotlib.pyplot as plt\n",
        "\n",
        "\n",
        "def plot_graphs(history, string):\n",
        "  plt.plot(history.history[string])\n",
        "  plt.plot(history.history['val_'+string])\n",
        "  plt.xlabel(\"Epochs\")\n",
        "  plt.ylabel(string)\n",
        "  plt.legend([string, 'val_'+string])\n",
        "  plt.show()\n",
        "\n",
        "plot_graphs(history, \"accuracy\")\n",
        "plot_graphs(history, \"loss\")"
      ],
      "metadata": {
        "colab": {
          "base_uri": "https://localhost:8080/",
          "height": 881
        },
        "id": "6JiOMSXUWHJ1",
        "outputId": "f6fa7b6e-2991-4c31-8827-4780e0bd4515"
      },
      "execution_count": 22,
      "outputs": [
        {
          "output_type": "display_data",
          "data": {
            "text/plain": [
              "<Figure size 640x480 with 1 Axes>"
            ],
            "image/png": "[encoded data removed]"
          },
          "metadata": {}
        },
        {
          "output_type": "display_data",
          "data": {
            "text/plain": [
              "<Figure size 640x480 with 1 Axes>"
            ],
            "image/png": "[encoded data removed]"
          },
          "metadata": {}
        }
      ]
    },
    {
      "cell_type": "code",
      "source": [
        "sentence = [\"i am happy\", \"haha, the famous game of thrones season finale showing this sunday night\"]\n",
        "sequences = tokenizer.texts_to_sequences(sentence)\n",
        "padded = pad_sequences(sequences, maxlen=max_length, padding=padding_type, truncating=trunc_type)\n",
        "print(model.predict(padded))"
      ],
      "metadata": {
        "colab": {
          "base_uri": "https://localhost:8080/"
        },
        "id": "YeXuodYBWHMO",
        "outputId": "1019c83f-b66e-473a-ebd1-9d4441474561"
      },
      "execution_count": 25,
      "outputs": [
        {
          "output_type": "stream",
          "name": "stdout",
          "text": [
            "1/1 [==============================] - 0s 25ms/step\n",
            "[[3.3708307e-04]\n",
            " [9.5450044e-01]]\n"
          ]
        }
      ]
    },
    {
      "cell_type": "code",
      "source": [],
      "metadata": {
        "id": "Qh_uHq2tV5VS"
      },
      "execution_count": 23,
      "outputs": []
    }
  ]
}